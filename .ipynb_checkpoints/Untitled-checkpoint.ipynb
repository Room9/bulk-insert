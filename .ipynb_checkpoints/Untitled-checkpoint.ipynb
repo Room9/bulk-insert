{
 "cells": [
  {
   "cell_type": "code",
   "execution_count": 4,
   "id": "63ff7ffb",
   "metadata": {},
   "outputs": [],
   "source": [
    "import pymysql\n",
    "\n",
    "host = 'localhost'\n",
    "port = 3306\n",
    "db_name = 'mealgen'\n",
    "conn = pymysql.connect(host=host, port=int(port), user='root', password='0000', db='mealgen', charset='utf8')\n",
    "curs = conn.cursor()"
   ]
  },
  {
   "cell_type": "code",
   "execution_count": 11,
   "id": "778c6f86",
   "metadata": {},
   "outputs": [
    {
     "name": "stdout",
     "output_type": "stream",
     "text": [
      "[]\n"
     ]
    }
   ],
   "source": [
    "import pandas as pd\n",
    "import time\n",
    "\n",
    "start = time.time()\n",
    "\n",
    "data = pd.read_csv('/Users/happytoseeyou/Desktop/검증.csv')\n",
    "people = [('방남진',1),('이예진',2),('김한성',3),('김승원',4),('강진희',5),('황상순',6)]\n",
    "temp = []\n",
    "\n",
    "# try: \n",
    "for j in range(0,58):\n",
    "    for v,i in people:\n",
    "        if type(data[v][j]) == str:\n",
    "            review_id = i\n",
    "            nickname = v\n",
    "            restaurant_id = 99\n",
    "            menu = data['구분'][j]\n",
    "            menu_id = j\n",
    "            like_dislike = int(data[v][j])\n",
    "            temp.append((review_id, nickname, restaurant_id, menu, menu_id, like_dislike))\n",
    "            \n",
    "print(temp)\n",
    "# except:\n",
    "#     q = \"INSERT INTO reviews (review_id, nickname, restaurant_id, menu, menu_id, like_dislike) VALUES(%s, %s, %s, %s, %s, %s)\"\n",
    "#     curs.executemany(q, temp)\n",
    "#     conn.commit()\n",
    "#     print(time.time() - start)\n",
    "\n",
    "# #connection close로 db부하 연결없이 하자\n",
    "# conn.close()"
   ]
  }
 ],
 "metadata": {
  "kernelspec": {
   "display_name": "Python 3 (ipykernel)",
   "language": "python",
   "name": "python3"
  },
  "language_info": {
   "codemirror_mode": {
    "name": "ipython",
    "version": 3
   },
   "file_extension": ".py",
   "mimetype": "text/x-python",
   "name": "python",
   "nbconvert_exporter": "python",
   "pygments_lexer": "ipython3",
   "version": "3.9.5"
  }
 },
 "nbformat": 4,
 "nbformat_minor": 5
}
